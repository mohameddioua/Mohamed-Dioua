{
  "nbformat": 4,
  "nbformat_minor": 0,
  "metadata": {
    "colab": {
      "provenance": []
    },
    "kernelspec": {
      "name": "python3",
      "display_name": "Python 3"
    },
    "language_info": {
      "name": "python"
    }
  },
  "cells": [
    {
      "cell_type": "code",
      "execution_count": 1,
      "metadata": {
        "id": "fh7JW44SGylI"
      },
      "outputs": [],
      "source": [
        "import numpy as np\n",
        "import tensorflow as tf\n",
        "from tensorflow.keras import datasets, layers, models\n",
        "from sklearn.metrics import classification_report, confusion_matrix\n",
        "import seaborn as sns\n",
        "import matplotlib.pyplot as plt\n"
      ]
    },
    {
      "cell_type": "markdown",
      "source": [
        "Cette cellule importe toutes les bibliothèques nécessaires pour le projet. numpy est utilisé pour la manipulation de données numériques, tensorflow pour construire et entraîner le modèle de réseau de neurones, sklearn pour les métriques d'évaluation du modèle, et seaborn et matplotlib pour la visualisation des résultats."
      ],
      "metadata": {
        "id": "I0F3CfKUKqNH"
      }
    },
    {
      "cell_type": "code",
      "source": [
        "def load_preprocess_data():\n",
        "    (train_images, train_labels), (test_images, test_labels) = datasets.cifar10.load_data()\n",
        "    train_labels = train_labels.flatten()\n",
        "    test_labels = test_labels.flatten()\n",
        "\n",
        "    # Définir les classes qui peuvent voler (1) et celles qui ne peuvent pas voler (0)\n",
        "    can_fly = [0, 2]  # avion, oiseau\n",
        "    cannot_fly = [1, 3, 4, 5, 6, 7, 8, 9]  # toutes les autres classes\n",
        "\n",
        "    # Créer des étiquettes binaires pour la nouvelle tâche\n",
        "    train_labels = np.array([1 if label in can_fly else 0 for label in train_labels])\n",
        "    test_labels = np.array([1 if label in can_fly else 0 for label in test_labels])\n",
        "\n",
        "    # Normaliser les valeurs des pixels pour être entre 0 et 1\n",
        "    train_images, test_images = train_images / 255.0, test_images / 255.0\n",
        "\n",
        "    return train_images, train_labels, test_images, test_labels\n",
        "\n",
        "# Charger et prétraiter les données\n",
        "train_images, train_labels, test_images, test_labels = load_preprocess_data()\n"
      ],
      "metadata": {
        "colab": {
          "base_uri": "https://localhost:8080/"
        },
        "id": "IZIB0Ml-G7x4",
        "outputId": "9c8d2ed6-55e7-4450-9d73-4d8aeec823c0"
      },
      "execution_count": 5,
      "outputs": [
        {
          "output_type": "stream",
          "name": "stdout",
          "text": [
            "Downloading data from https://www.cs.toronto.edu/~kriz/cifar-10-python.tar.gz\n",
            "170498071/170498071 [==============================] - 10s 0us/step\n"
          ]
        }
      ]
    },
    {
      "cell_type": "markdown",
      "source": [
        " Cette cellule définit une fonction load_preprocess_data qui charge le dataset CIFAR-10, aplatie les étiquettes, les reclassifie en deux catégories (voler et ne pas voler), et normalise les images. Ensuite, elle appelle cette fonction pour prétraiter les données et stocker les résultats dans des variables."
      ],
      "metadata": {
        "id": "8f54YdlvKwNk"
      }
    },
    {
      "cell_type": "code",
      "source": [
        "def build_model():\n",
        "    model = models.Sequential()\n",
        "    model.add(layers.Conv2D(32, (3, 3), activation='relu', input_shape=(32, 32, 3)))\n",
        "    model.add(layers.MaxPooling2D((2, 2)))\n",
        "    model.add(layers.Conv2D(64, (3, 3), activation='relu'))\n",
        "    model.add(layers.MaxPooling2D((2, 2)))\n",
        "    model.add(layers.Conv2D(64, (3, 3), activation='relu'))\n",
        "    model.add(layers.Flatten())\n",
        "    model.add(layers.Dense(64, activation='relu'))\n",
        "    model.add(layers.Dense(1, activation='sigmoid'))\n",
        "    return model\n",
        "\n",
        "# Construire le modèle\n",
        "model = build_model()\n"
      ],
      "metadata": {
        "id": "D3g7Iv1kHi25"
      },
      "execution_count": 6,
      "outputs": []
    },
    {
      "cell_type": "markdown",
      "source": [
        "Cette cellule définit une fonction build_model pour construire un modèle de réseau de neurones convolutionnel (CNN) avec plusieurs couches convolutionnelles, de max-pooling, une couche aplatie, et des couches denses. Ensuite, elle appelle cette fonction pour construire le modèle et stocker le résultat dans une variable."
      ],
      "metadata": {
        "id": "FzuxpOMPK1wV"
      }
    },
    {
      "cell_type": "code",
      "source": [
        "def compile_and_train_model(model, train_images, train_labels, test_images, test_labels):\n",
        "    model.compile(optimizer='adam',\n",
        "                  loss='binary_crossentropy',\n",
        "                  metrics=['accuracy'])\n",
        "\n",
        "    history = model.fit(train_images, train_labels, epochs=10,\n",
        "                        validation_data=(test_images, test_labels))\n",
        "    return history\n",
        "\n",
        "# Compiler et entraîner le modèle\n",
        "history = compile_and_train_model(model, train_images, train_labels, test_images, test_labels)\n"
      ],
      "metadata": {
        "colab": {
          "base_uri": "https://localhost:8080/"
        },
        "id": "Knrr49itHl5C",
        "outputId": "87a01d12-399f-4cda-a2e7-e69c96aab325"
      },
      "execution_count": 10,
      "outputs": [
        {
          "output_type": "stream",
          "name": "stdout",
          "text": [
            "Epoch 1/10\n",
            "1563/1563 [==============================] - 68s 42ms/step - loss: 0.2788 - accuracy: 0.8876 - val_loss: 0.2851 - val_accuracy: 0.8870\n",
            "Epoch 2/10\n",
            "1563/1563 [==============================] - 65s 42ms/step - loss: 0.2563 - accuracy: 0.8968 - val_loss: 0.2973 - val_accuracy: 0.8829\n",
            "Epoch 3/10\n",
            "1563/1563 [==============================] - 62s 39ms/step - loss: 0.2360 - accuracy: 0.9054 - val_loss: 0.2761 - val_accuracy: 0.8901\n",
            "Epoch 4/10\n",
            "1563/1563 [==============================] - 64s 41ms/step - loss: 0.2153 - accuracy: 0.9145 - val_loss: 0.2842 - val_accuracy: 0.8948\n",
            "Epoch 5/10\n",
            "1563/1563 [==============================] - 63s 40ms/step - loss: 0.1955 - accuracy: 0.9221 - val_loss: 0.2878 - val_accuracy: 0.8966\n",
            "Epoch 6/10\n",
            "1563/1563 [==============================] - 65s 42ms/step - loss: 0.1780 - accuracy: 0.9286 - val_loss: 0.3020 - val_accuracy: 0.8890\n",
            "Epoch 7/10\n",
            "1563/1563 [==============================] - 63s 40ms/step - loss: 0.1579 - accuracy: 0.9361 - val_loss: 0.2964 - val_accuracy: 0.8979\n",
            "Epoch 8/10\n",
            "1563/1563 [==============================] - 65s 41ms/step - loss: 0.1395 - accuracy: 0.9450 - val_loss: 0.3157 - val_accuracy: 0.8955\n",
            "Epoch 9/10\n",
            "1563/1563 [==============================] - 67s 43ms/step - loss: 0.1226 - accuracy: 0.9515 - val_loss: 0.3466 - val_accuracy: 0.8791\n",
            "Epoch 10/10\n",
            "1563/1563 [==============================] - 65s 42ms/step - loss: 0.1084 - accuracy: 0.9574 - val_loss: 0.3622 - val_accuracy: 0.8933\n"
          ]
        }
      ]
    },
    {
      "cell_type": "markdown",
      "source": [
        "Cette cellule définit une fonction compile_and_train_model pour compiler le modèle avec l'optimiseur Adam, la perte de binaires cross-entropie, et l'exactitude comme métrique. Ensuite, elle entraîne le modèle sur les données d'entraînement pendant 10 époques et utilise les données de test pour la validation. L'historique d'entraînement est stocké dans une variable."
      ],
      "metadata": {
        "id": "TDWJcKafOHIP"
      }
    },
    {
      "cell_type": "code",
      "source": [
        "def evaluate_model(model, test_images, test_labels):\n",
        "    predictions = model.predict(test_images)\n",
        "    predictions = (predictions > 0.5).astype(int)\n",
        "\n",
        "    print(\"Classification Report:\")\n",
        "    print(classification_report(test_labels, predictions))\n",
        "\n",
        "    print(\"Confusion Matrix:\")\n",
        "    cm = confusion_matrix(test_labels, predictions)\n",
        "    sns.heatmap(cm, annot=True, fmt='d')\n",
        "    plt.xlabel('Predicted')\n",
        "    plt.ylabel('True')\n",
        "    plt.show()\n",
        "\n",
        "# Évaluer le modèle\n",
        "evaluate_model(model, test_images, test_labels)\n"
      ],
      "metadata": {
        "colab": {
          "base_uri": "https://localhost:8080/",
          "height": 657
        },
        "id": "UpBlBA4AON1L",
        "outputId": "6cb2cbea-dd24-4244-95a5-67c07c91eec0"
      },
      "execution_count": 11,
      "outputs": [
        {
          "output_type": "stream",
          "name": "stdout",
          "text": [
            "313/313 [==============================] - 8s 25ms/step\n",
            "Classification Report:\n",
            "              precision    recall  f1-score   support\n",
            "\n",
            "           0       0.93      0.94      0.93      8000\n",
            "           1       0.74      0.71      0.73      2000\n",
            "\n",
            "    accuracy                           0.89     10000\n",
            "   macro avg       0.84      0.82      0.83     10000\n",
            "weighted avg       0.89      0.89      0.89     10000\n",
            "\n",
            "Confusion Matrix:\n"
          ]
        },
        {
          "output_type": "display_data",
          "data": {
            "text/plain": [
              "<Figure size 640x480 with 2 Axes>"
            ],
            "image/png": "[encoded data removed]"
          },
          "metadata": {}
        }
      ]
    },
    {
      "cell_type": "markdown",
      "source": [
        "Cette cellule définit une fonction evaluate_model pour évaluer les performances du modèle. Elle obtient les prédictions du modèle sur les données de test, les convertit en valeurs binaires, puis imprime un rapport de classification et une matrice de confusion. La matrice de confusion est visualisée avec un graphique heatmap. Ensuite, la fonction est appelée pour évaluer le modèle et afficher les résultats."
      ],
      "metadata": {
        "id": "U5iP_jhTOZh4"
      }
    }
  ]
}